{
 "cells": [
  {
   "cell_type": "markdown",
   "id": "5e079ad0",
   "metadata": {},
   "source": [
    "# 10 tips for switching from Matlab to Python"
   ]
  },
  {
   "cell_type": "markdown",
   "id": "480e3118",
   "metadata": {},
   "source": [
    "## Joint Manipulation of Words and Numbers\n",
    "Whether through dictionaries or lists (standard Python structures) or DataFrames (matrix/table structure of Pandas), Python offers great ease in working simultaneously with numerical and textual data. This versatility is not as evident with Matlab, where the introduction of text considerably complicates things.\n",
    "## Flexibility of Data Structures\n",
    "In Python, it is perfectly acceptable to create a heterogeneous list like this:"
   ]
  },
  {
   "cell_type": "code",
   "execution_count": null,
   "id": "f8f685c2",
   "metadata": {},
   "outputs": [],
   "source": [
    "liste = [1, 'two', [1,2,3], {'key': 1}]"
   ]
  },
  {
   "cell_type": "code",
   "execution_count": null,
   "id": "9a1aca2e",
   "metadata": {},
   "outputs": [
    {
     "data": {
      "text/plain": [
       "[1, 'deux', [1, 2, 3], {'clé': 1}]"
      ]
     },
     "execution_count": 7,
     "metadata": {},
     "output_type": "execute_result"
    }
   ],
   "source": [
    "liste"
   ]
  },
  {
   "cell_type": "markdown",
   "id": "5701be57",
   "metadata": {},
   "source": []
  },
  {
   "cell_type": "markdown",
   "id": "11f849da",
   "metadata": {},
   "source": [
    "Accessing Values in Lists (and Lists of Lists)\n",
    "### In Matlab\n",
    "In Matlab, list counting starts at 1 and is accessed with parentheses. The last value can be accessed with the word \"end\".\n",
    "\n",
    "```matlab\n",
    "% Accessing list elements in Matlab\n",
    "\n",
    "ma_liste = [1, 2, 3];\n",
    "\n",
    "% returns 1\n",
    "disp(ma_liste(1))\n",
    "  \n",
    "% returns 3\n",
    "disp(ma_liste(end))\n",
    "```\n",
    "In Python\n",
    "In Python, lists are accessed with square brackets (parentheses are reserved for function and class calls) and counting starts at 0. The reason why it starts at 0 instead of 1 is beyond the scope of this article, but you can find discussions about it online. Personally, I found it hard to get used to, as simple as it may seem.\n",
    "Tip: to access the last value, you can use the index -1. Can you guess what -2 does? :)\n",
    "Blocks do not end with \"end\" and require \":\"\n",
    "\n"
   ]
  },
  {
   "cell_type": "code",
   "execution_count": null,
   "id": "3280e46c",
   "metadata": {},
   "outputs": [
    {
     "name": "stdout",
     "output_type": "stream",
     "text": [
      "1\n"
     ]
    }
   ],
   "source": [
    "# Accessing list elements in Python\n",
    "\n",
    "my_list = [1, 2, 3] \n",
    "\n",
    "# returns 1 \n",
    "\n",
    "print(my_list[0])"
   ]
  },
  {
   "cell_type": "code",
   "execution_count": null,
   "id": "1989dd9c",
   "metadata": {},
   "outputs": [
    {
     "name": "stdout",
     "output_type": "stream",
     "text": [
      "3\n"
     ]
    }
   ],
   "source": [
    "# returns 2 \n",
    "print(my_list[-1])"
   ]
  },
  {
   "cell_type": "code",
   "execution_count": null,
   "id": "fb2afb9e",
   "metadata": {},
   "outputs": [
    {
     "name": "stdout",
     "output_type": "stream",
     "text": [
      "3\n"
     ]
    }
   ],
   "source": [
    "# list of lists\n",
    "complex_list = [[1, 2, 3], [4, 5, 6]]\n",
    "\n",
    "# returns 3\n",
    "print(complex_list[0][2])"
   ]
  },
  {
   "cell_type": "code",
   "execution_count": null,
   "id": "b5d61431",
   "metadata": {},
   "outputs": [
    {
     "name": "stdout",
     "output_type": "stream",
     "text": [
      "5\n"
     ]
    }
   ],
   "source": [
    "# returns 5\n",
    "print(complex_list[1][1])"
   ]
  },
  {
   "cell_type": "markdown",
   "id": "6a7ee58c",
   "metadata": {},
   "source": [
    "### In Matlab\n",
    "In Matlab, the simplest way to make a loop is shown below, where you have a list and you enumerate its elements. In this loop, \"for\" marks the beginning of the loop and \"end\" defines its end. The interpreter will read everything between these two statements as part of the loop.\n",
    "Note that the indentation inserted is optional, it is just a good practice.\n",
    "Indentation means that blocks of your code are marked with a space to identify what is nested in the code. In the example below, the four spaces before the statement on line 6 indicate that this statement is nested (i.e. inside) the loop shown on line 5 (without indentation).\n",
    "```matlab\n",
    "% Creating the list\n",
    "my_list = ['a', 'b' , 'c'];\n",
    "\n",
    "% Loop accessing list items\n",
    "for item=my_list\n",
    "disp(item)\n",
    "end\n",
    "\n",
    "disp('Outside the loop')\n",
    "```\n",
    "### In Python\n",
    "Below we can see the same loop written in Python. Now, \":\" marks the beginning of the loop and there is no \"end\" to show the end. The end is indicated by the end of the indentation at line 7. The interpreter sees that line 7 is not nested in the loop started at line 5 and, therefore, does not consider this line as part of the block. In this way, it is obvious that the indentation, in this case, is not optional but mandatory!"
   ]
  },
  {
   "cell_type": "code",
   "execution_count": null,
   "id": "c01f3ac2",
   "metadata": {},
   "outputs": [
    {
     "name": "stdout",
     "output_type": "stream",
     "text": [
      "a\n",
      "b\n",
      "c\n",
      "En dehors de la boucle\n"
     ]
    }
   ],
   "source": [
    "# Create the list\n",
    "my_list = ['a', 'b' , 'c']\n",
    "\n",
    "# Loop while accessing the elements of the list\n",
    "for item in my_list:\n",
    "\n",
    "print(item)\n",
    "print('Outside the loop')"
   ]
  },
  {
   "cell_type": "markdown",
   "id": "03357229",
   "metadata": {},
   "source": [
    "Available functions and methods\n",
    "### In Matlab\n",
    "In Matlab, several functions are loaded by default, for example basic mathematical functions like sine and cosine.\n",
    "### In Python\n",
    "Python has a different philosophy where few functions are loaded by default and most are separated into modules that you import into your code. This allows your code (and Python itself) to be faster and to load only what is necessary for it to work.\n",
    "Some modules are already included by default in pure Python, for example the math module. Others must be downloaded from a repository, like Numpy and Pandas. Today, over 107,000 projects are registered in the official repository. If you don't find what you are looking for, you are strongly encouraged to build a new module and add it to the repository!"
   ]
  },
  {
   "cell_type": "code",
   "execution_count": null,
   "id": "c5f679e6",
   "metadata": {},
   "outputs": [
    {
     "name": "stdout",
     "output_type": "stream",
     "text": [
      "0.8775825618903728\n",
      "0.8775825618903728\n"
     ]
    }
   ],
   "source": [
    "import math\n",
    "\n",
    "print(math.cos(0.5))\n",
    "\n",
    "# another way to use the same cosine method\n",
    "\n",
    "from math import cos\n",
    "\n",
    "print(cos(0.5))"
   ]
  },
  {
   "cell_type": "markdown",
   "id": "2652960d",
   "metadata": {},
   "source": [
    "However, besides the functions that come in modules, each variable has its own functions. Specific to each variable type, these functions can be accessed via the variable name as shown in the example below.\n",
    "For example, string variables are interpreted as text. For text variables, there are functions to check if all letters are lowercase (.islower()) or to turn all letters into lowercase (.lower()) or even to check if the string content is numeric (.isdigit()).\n",
    "For each variable type (string, integer, float, list, dictionary, etc.), there are different built-in methods. The best way to know them is to open the interpreter, create variables and play around with them!"
   ]
  },
  {
   "cell_type": "code",
   "execution_count": null,
   "id": "e9ee46ac",
   "metadata": {},
   "outputs": [
    {
     "data": {
      "text/plain": [
       "1"
      ]
     },
     "execution_count": 19,
     "metadata": {},
     "output_type": "execute_result"
    }
   ],
   "source": [
    "# string variable\n",
    "word = 'word'\n",
    "\n",
    "# checks if the variable is all lowercase\n",
    "# returns True\n",
    "word.islower()\n",
    "\n",
    "# checks if there is a numeric character in the word\n",
    "# returns False\n",
    "word.isdigit()\n",
    "\n",
    "my_list = [1, 2, '3']\n",
    "\n",
    "# adds an element to the list\n",
    "# returns [1, 2, '3', 'four']\n",
    "my_list.append('four')\n",
    "\n",
    "# counts the occurrence of an element in the list\n",
    "# returns 1\n",
    "my_list.count('3')"
   ]
  },
  {
   "cell_type": "markdown",
   "id": "75f727f6",
   "metadata": {},
   "source": [
    "How do I know which module I should use?\n",
    "If you are using Matlab, Numpy, Scipy, Matplotlib and Pandas will meet your needs. These are the main tools for data analysis in Python, but there are many others. Look for codes that have already done something similar and are available on Github, Stackoverflow or check the forums."
   ]
  },
  {
   "cell_type": "code",
   "execution_count": null,
   "id": "433ef7cc",
   "metadata": {},
   "outputs": [],
   "source": []
  }
 ],
 "metadata": {
  "kernelspec": {
   "display_name": "Python 3",
   "language": "python",
   "name": "python3"
  },
  "language_info": {
   "codemirror_mode": {
    "name": "ipython",
    "version": 3
   },
   "file_extension": ".py",
   "mimetype": "text/x-python",
   "name": "python",
   "nbconvert_exporter": "python",
   "pygments_lexer": "ipython3",
   "version": "3.11.4"
  }
 },
 "nbformat": 4,
 "nbformat_minor": 5
}
